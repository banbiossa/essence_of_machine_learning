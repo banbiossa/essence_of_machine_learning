{
 "cells": [
  {
   "cell_type": "markdown",
   "metadata": {},
   "source": [
    "# 0.4_ss_logistic\n",
    "ロジスティック回帰頑張ろ"
   ]
  },
  {
   "cell_type": "code",
   "execution_count": 2,
   "metadata": {},
   "outputs": [],
   "source": [
    "%load_ext autoreload\n",
    "%autoreload 2"
   ]
  },
  {
   "cell_type": "code",
   "execution_count": 3,
   "metadata": {},
   "outputs": [],
   "source": [
    "%reload_ext autoreload"
   ]
  },
  {
   "cell_type": "code",
   "execution_count": 4,
   "metadata": {},
   "outputs": [],
   "source": [
    "\n",
    "import logging\n",
    "log_fmt = '%(asctime)s - %(name)s - %(levelname)s - %(message)s'\n",
    "logging.basicConfig(level=logging.INFO, format=log_fmt)\n",
    "# logging.basicConfig(level=logging.DEBUG, format=log_fmt)\n",
    "logger = logging.getLogger()"
   ]
  },
  {
   "cell_type": "markdown",
   "metadata": {},
   "source": [
    "## Logistic one loop\n",
    "- 1 loop だけ回す"
   ]
  },
  {
   "cell_type": "code",
   "execution_count": 18,
   "metadata": {},
   "outputs": [],
   "source": [
    "import numpy as np\n",
    "import pandas as pd\n",
    "from scipy import linalg\n",
    "from sklearn.model_selection import train_test_split\n",
    "from sklearn.impute import SimpleImputer"
   ]
  },
  {
   "cell_type": "code",
   "execution_count": 6,
   "metadata": {},
   "outputs": [],
   "source": [
    "def sigmoid(x):\n",
    "    return 1/(1+np.exp(-x))"
   ]
  },
  {
   "cell_type": "code",
   "execution_count": null,
   "metadata": {},
   "outputs": [],
   "source": [
    "class LogisticRegression:"
   ]
  },
  {
   "cell_type": "code",
   "execution_count": 23,
   "metadata": {},
   "outputs": [],
   "source": [
    "impute = True\n",
    "as_numpy = True"
   ]
  },
  {
   "cell_type": "code",
   "execution_count": 21,
   "metadata": {},
   "outputs": [],
   "source": []
  },
  {
   "cell_type": "code",
   "execution_count": 25,
   "metadata": {},
   "outputs": [],
   "source": [
    "def load_breast_cancer(impute=True, as_numpy=True):\n",
    "    url = ('https://raw.githubusercontent.com/selva86/'\n",
    "           'datasets/master/BreastCancer.csv')\n",
    "    df = pd.read_csv(url)\n",
    "    y = df.Class\n",
    "    X = df.drop(['Class'], 1)\n",
    "\n",
    "    imp = SimpleImputer()\n",
    "    if impute:\n",
    "        X = imp.fit_transform(X)\n",
    "\n",
    "    if as_numpy:\n",
    "        X = np.array(X)\n",
    "        y = np.array(y)\n",
    "    return train_test_split(X, y)\n",
    "\n",
    "X_train, X_test, y_train, y_test = load_breast_cancer() "
   ]
  },
  {
   "cell_type": "code",
   "execution_count": 8,
   "metadata": {},
   "outputs": [],
   "source": [
    "tol = 0.001\n",
    "max_iter = 3\n",
    "random_seed = 0\n",
    "random_state = np.random.RandomState(random_seed)"
   ]
  },
  {
   "cell_type": "code",
   "execution_count": 29,
   "metadata": {},
   "outputs": [],
   "source": [
    "X = X_train"
   ]
  },
  {
   "cell_type": "code",
   "execution_count": 30,
   "metadata": {},
   "outputs": [
    {
     "data": {
      "text/plain": [
       "(11,)"
      ]
     },
     "execution_count": 30,
     "metadata": {},
     "output_type": "execute_result"
    }
   ],
   "source": [
    "w_ = random_state.randn(X.shape[1]+1)\n",
    "w_.shape"
   ]
  },
  {
   "cell_type": "code",
   "execution_count": 31,
   "metadata": {},
   "outputs": [
    {
     "data": {
      "text/plain": [
       "array([ 0.8644362 , -0.74216502,  2.26975462, -1.45436567,  0.04575852,\n",
       "       -0.18718385,  1.53277921,  1.46935877,  0.15494743,  0.37816252,\n",
       "       -0.88778575])"
      ]
     },
     "execution_count": 31,
     "metadata": {},
     "output_type": "execute_result"
    }
   ],
   "source": [
    "w_"
   ]
  },
  {
   "cell_type": "code",
   "execution_count": 33,
   "metadata": {},
   "outputs": [
    {
     "data": {
      "text/plain": [
       "array([[1.000000e+00, 1.311108e+06, 1.000000e+00, ..., 1.000000e+00,\n",
       "        1.000000e+00, 1.000000e+00],\n",
       "       [1.000000e+00, 4.769030e+05, 1.000000e+01, ..., 3.000000e+00,\n",
       "        3.000000e+00, 8.000000e+00],\n",
       "       [1.000000e+00, 1.368267e+06, 5.000000e+00, ..., 1.000000e+00,\n",
       "        1.000000e+00, 1.000000e+00],\n",
       "       ...,\n",
       "       [1.000000e+00, 1.352663e+06, 5.000000e+00, ..., 8.000000e+00,\n",
       "        1.000000e+01, 1.000000e+00],\n",
       "       [1.000000e+00, 1.155967e+06, 5.000000e+00, ..., 2.000000e+00,\n",
       "        1.000000e+00, 1.000000e+00],\n",
       "       [1.000000e+00, 4.881730e+05, 1.000000e+00, ..., 5.000000e+00,\n",
       "        6.000000e+00, 1.000000e+00]])"
      ]
     },
     "execution_count": 33,
     "metadata": {},
     "output_type": "execute_result"
    }
   ],
   "source": [
    "Xtil = np.c_[np.ones(X.shape[0]), X]\n",
    "Xtil"
   ]
  },
  {
   "cell_type": "code",
   "execution_count": 34,
   "metadata": {},
   "outputs": [
    {
     "data": {
      "text/plain": [
       "array([[1.311108e+06, 1.000000e+00, 1.000000e+00, ..., 1.000000e+00,\n",
       "        1.000000e+00, 1.000000e+00],\n",
       "       [4.769030e+05, 1.000000e+01, 5.000000e+00, ..., 3.000000e+00,\n",
       "        3.000000e+00, 8.000000e+00],\n",
       "       [1.368267e+06, 5.000000e+00, 1.000000e+00, ..., 1.000000e+00,\n",
       "        1.000000e+00, 1.000000e+00],\n",
       "       ...,\n",
       "       [1.352663e+06, 5.000000e+00, 4.000000e+00, ..., 8.000000e+00,\n",
       "        1.000000e+01, 1.000000e+00],\n",
       "       [1.155967e+06, 5.000000e+00, 1.000000e+00, ..., 2.000000e+00,\n",
       "        1.000000e+00, 1.000000e+00],\n",
       "       [4.881730e+05, 1.000000e+00, 4.000000e+00, ..., 5.000000e+00,\n",
       "        6.000000e+00, 1.000000e+00]])"
      ]
     },
     "execution_count": 34,
     "metadata": {},
     "output_type": "execute_result"
    }
   ],
   "source": [
    "X"
   ]
  },
  {
   "cell_type": "code",
   "execution_count": 36,
   "metadata": {},
   "outputs": [],
   "source": [
    "diff = np.inf\n",
    "w_prev = w_\n",
    "iter_ = 0"
   ]
  },
  {
   "cell_type": "code",
   "execution_count": 37,
   "metadata": {},
   "outputs": [],
   "source": [
    "assert(diff > tol and iter_ < max_iter)"
   ]
  },
  {
   "cell_type": "code",
   "execution_count": 38,
   "metadata": {},
   "outputs": [
    {
     "name": "stderr",
     "output_type": "stream",
     "text": [
      "/Users/shotashimizu/.pyenv/versions/3.7.0/envs/essence/lib/python3.7/site-packages/ipykernel_launcher.py:2: RuntimeWarning: overflow encountered in exp\n",
      "  \n"
     ]
    }
   ],
   "source": [
    "yhat = sigmoid(np.dot(Xtil, w_))"
   ]
  },
  {
   "cell_type": "code",
   "execution_count": 54,
   "metadata": {},
   "outputs": [
    {
     "data": {
      "text/plain": [
       "numpy.ndarray"
      ]
     },
     "execution_count": 54,
     "metadata": {},
     "output_type": "execute_result"
    }
   ],
   "source": [
    "type(Xtil)"
   ]
  },
  {
   "cell_type": "code",
   "execution_count": 53,
   "metadata": {},
   "outputs": [
    {
     "data": {
      "text/plain": [
       "numpy.ndarray"
      ]
     },
     "execution_count": 53,
     "metadata": {},
     "output_type": "execute_result"
    }
   ],
   "source": [
    "type(w_)"
   ]
  },
  {
   "cell_type": "code",
   "execution_count": 51,
   "metadata": {},
   "outputs": [
    {
     "data": {
      "text/plain": [
       "numpy.ndarray"
      ]
     },
     "execution_count": 51,
     "metadata": {},
     "output_type": "execute_result"
    }
   ],
   "source": [
    "type(yhat)"
   ]
  },
  {
   "cell_type": "code",
   "execution_count": 41,
   "metadata": {},
   "outputs": [],
   "source": [
    "THRESMIN = 1e-10"
   ]
  },
  {
   "cell_type": "code",
   "execution_count": 49,
   "metadata": {},
   "outputs": [
    {
     "name": "stderr",
     "output_type": "stream",
     "text": [
      "2018-12-03 23:15:41,721 - root - INFO - r: (524,)\n"
     ]
    }
   ],
   "source": [
    "r = np.clip(yhat * (1-yhat), THRESMIN, np.inf)\n",
    "logger.info(f\"r: {r.shape}\")"
   ]
  },
  {
   "cell_type": "code",
   "execution_count": 50,
   "metadata": {},
   "outputs": [
    {
     "data": {
      "text/plain": [
       "numpy.ndarray"
      ]
     },
     "execution_count": 50,
     "metadata": {},
     "output_type": "execute_result"
    }
   ],
   "source": [
    "type(r)"
   ]
  },
  {
   "cell_type": "code",
   "execution_count": 48,
   "metadata": {},
   "outputs": [
    {
     "name": "stderr",
     "output_type": "stream",
     "text": [
      "2018-12-03 23:15:21,637 - root - INFO - XR: (11, 524), Xtil.T: (11, 524)\n"
     ]
    }
   ],
   "source": [
    "XR = Xtil.T * r\n",
    "logger.info(f\"XR: {XR.shape}, Xtil.T: {Xtil.T.shape}\")"
   ]
  },
  {
   "cell_type": "markdown",
   "metadata": {},
   "source": [
    "# Loop"
   ]
  },
  {
   "cell_type": "code",
   "execution_count": 58,
   "metadata": {},
   "outputs": [],
   "source": [
    "class LogisticRegression:\n",
    "    def __init__(self, tol=0.001, max_iter=3, random_seed=0):\n",
    "        self.tol = tol\n",
    "        self.max_iter = max_iter\n",
    "        self.random_state = np.random.RandomState(random_seed)\n",
    "        self.w_ = None\n",
    "    \n",
    "    def fit(self, X, y):\n",
    "        assert(type(X) == np.ndarray)\n",
    "        assert(type(y) == np.ndarray)\n",
    "        \n",
    "        self.w_ = self.random_state.randn(X.shape[1] + 1)\n",
    "        Xtil = np.c_[np.ones(X.shape[0]), X]\n",
    "        diff = np.inf\n",
    "        w_prev = self.w_\n",
    "        iter_ = 0\n",
    "        THRESMIN = 1e-10 \n",
    "        while diff > self.tol and iter_ < self.max_iter:\n",
    "            yhat = sigmoid(np.dot(Xtil, self.w_))\n",
    "            r = np.clip(yhat*(1-yhat), THRESMIN, np.inf)\n",
    "            XR = Xtil.T * r\n",
    "            XRX = np.dot(XR, Xtil)\n",
    "            w_prev = self.w_\n",
    "            b = np.dot(XR, np.dot(Xtil, self.w_) - 1/r * (yhat - y))\n",
    "            self.w_ = linalg.solve(XRX, b)\n",
    "            diff = abs(w_prev - self.w_).mean()\n",
    "            iter_ += 1\n",
    "    \n",
    "    def predict(self, X):\n",
    "        assert(type(X) == np.ndarray)\n",
    "        \n",
    "        Xtil = np.c_[np.ones(X.shape[0]), X]\n",
    "        yhat = sigmoid(np.dot(Xtil, self.w_))\n",
    "        return np.where(yhat > .5, 1, 0)"
   ]
  },
  {
   "cell_type": "code",
   "execution_count": 66,
   "metadata": {},
   "outputs": [],
   "source": [
    "X_train, X_test, y_train, y_test = load_breast_cancer()\n",
    "n_test = y_test.shape[0]"
   ]
  },
  {
   "cell_type": "code",
   "execution_count": 72,
   "metadata": {},
   "outputs": [],
   "source": [
    "model = LogisticRegression(tol=0.001)"
   ]
  },
  {
   "cell_type": "code",
   "execution_count": 73,
   "metadata": {},
   "outputs": [
    {
     "name": "stderr",
     "output_type": "stream",
     "text": [
      "/Users/shotashimizu/.pyenv/versions/3.7.0/envs/essence/lib/python3.7/site-packages/ipykernel_launcher.py:2: RuntimeWarning: overflow encountered in exp\n",
      "  \n"
     ]
    }
   ],
   "source": [
    "model.fit(X_train, y_train)"
   ]
  },
  {
   "cell_type": "code",
   "execution_count": 74,
   "metadata": {},
   "outputs": [
    {
     "name": "stderr",
     "output_type": "stream",
     "text": [
      "/Users/shotashimizu/.pyenv/versions/3.7.0/envs/essence/lib/python3.7/site-packages/ipykernel_launcher.py:2: RuntimeWarning: overflow encountered in exp\n",
      "  \n"
     ]
    }
   ],
   "source": [
    "y_predict = model.predict(X_test)"
   ]
  },
  {
   "cell_type": "code",
   "execution_count": 75,
   "metadata": {},
   "outputs": [],
   "source": [
    "n_hits = (y_test == y_predict).sum()"
   ]
  },
  {
   "cell_type": "code",
   "execution_count": 76,
   "metadata": {},
   "outputs": [
    {
     "name": "stderr",
     "output_type": "stream",
     "text": [
      "2018-12-04 00:08:04,117 - root - INFO - Accuracy: 163/175 = 0.9314285714285714\n"
     ]
    }
   ],
   "source": [
    "logger.info(f\"Accuracy: {n_hits}/{n_test} = {n_hits/n_test}\")"
   ]
  },
  {
   "cell_type": "code",
   "execution_count": null,
   "metadata": {},
   "outputs": [],
   "source": []
  }
 ],
 "metadata": {
  "kernelspec": {
   "display_name": "Python 3",
   "language": "python",
   "name": "python3"
  },
  "language_info": {
   "codemirror_mode": {
    "name": "ipython",
    "version": 3
   },
   "file_extension": ".py",
   "mimetype": "text/x-python",
   "name": "python",
   "nbconvert_exporter": "python",
   "pygments_lexer": "ipython3",
   "version": "3.7.0"
  }
 },
 "nbformat": 4,
 "nbformat_minor": 2
}
